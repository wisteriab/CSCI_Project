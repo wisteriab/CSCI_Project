{
 "cells": [
  {
   "cell_type": "code",
   "execution_count": 29,
   "metadata": {
    "tags": []
   },
   "outputs": [],
   "source": [
    "import pandas as pd\n",
    "import numpy as np\n",
    "import matplotlib.pyplot as plt\n",
    "from sklearn.model_selection import train_test_split\n",
    "from sklearn import datasets, svm\n",
    "from sklearn.inspection import DecisionBoundaryDisplay\n",
    "from sklearn.preprocessing import scale\n",
    "from sklearn.preprocessing import StandardScaler\n",
    "from sklearn.metrics import recall_score\n",
    "from sklearn.metrics import f1_score\n",
    "from sklearn.metrics import precision_score\n",
    "from sklearn.metrics import accuracy_score"
   ]
  },
  {
   "cell_type": "code",
   "execution_count": 18,
   "metadata": {
    "tags": []
   },
   "outputs": [
    {
     "name": "stdout",
     "output_type": "stream",
     "text": [
      "<class 'pandas.core.frame.DataFrame'>\n",
      "Int64Index: 23171 entries, 0 to 23170\n",
      "Data columns (total 20 columns):\n",
      " #   Column              Non-Null Count  Dtype  \n",
      "---  ------              --------------  -----  \n",
      " 0   DEATHS              23171 non-null  int64  \n",
      " 1   DR_DRINK            23171 non-null  int64  \n",
      " 2   DR_HGT              23171 non-null  int64  \n",
      " 3   DR_WGT              23171 non-null  int64  \n",
      " 4   HIT_RUNNAME         23171 non-null  int64  \n",
      " 5   TRAV_SP             23171 non-null  int64  \n",
      " 6   HOUR                23171 non-null  int64  \n",
      " 7   MOD_YEAR            23171 non-null  int64  \n",
      " 8   MODELNAME           23171 non-null  object \n",
      " 9   VSPD_LIM            23171 non-null  int64  \n",
      " 10  VPICBODYCLASSNAME   23171 non-null  object \n",
      " 11  NUMOCCS             23171 non-null  int64  \n",
      " 12  MAKENAME            23171 non-null  object \n",
      " 13  MINUTE              23171 non-null  int64  \n",
      " 14  TIME                23171 non-null  float64\n",
      " 15  APRX_WGT            23171 non-null  float64\n",
      " 16  MOD_YEAR_5YR_CHUNK  23171 non-null  int64  \n",
      " 17  RELATIVE_SPEED      23171 non-null  int64  \n",
      " 18  BMI                 23171 non-null  float64\n",
      " 19  DEATHOCCURRED       23171 non-null  int64  \n",
      "dtypes: float64(3), int64(14), object(3)\n",
      "memory usage: 3.7+ MB\n"
     ]
    }
   ],
   "source": [
    "df = pd.read_csv(\"../data/data-clean/super-clean-vehicle-2020-2021.csv\", index_col = 0)\n",
    "df.info()"
   ]
  },
  {
   "cell_type": "code",
   "execution_count": 20,
   "metadata": {
    "tags": []
   },
   "outputs": [],
   "source": [
    "# split to train and test\n",
    "X = df.drop(columns = ['MODELNAME', 'DEATHOCCURRED', 'VPICBODYCLASSNAME',\n",
    "                      'MAKENAME'])\n",
    "y = df.VPICBODYCLASSNAME\n",
    "X_train, X_test, y_train, y_test = train_test_split(X, y, test_size=0.2, random_state=42)\n",
    "\n",
    "sc = StandardScaler()\n",
    "X_train = sc.fit_transform(X_train)\n",
    "X_test = sc.transform (X_test)\n"
   ]
  },
  {
   "cell_type": "code",
   "execution_count": 21,
   "metadata": {
    "tags": []
   },
   "outputs": [],
   "source": [
    "# Comparing SVM and linear SVC (squared hinge loss) to classify body type\n",
    "SVC = svm.SVC(kernel=\"linear\", C=1)\n",
    "SVC.fit(X_train, y_train)\n",
    "y_score_svc = SVC.decision_function(X_test)\n",
    "LSVC = svm.LinearSVC(C=1, max_iter=1000, dual=False)\n",
    "LSVC.fit(X_train, y_train)\n",
    "y_score = LSVC.decision_function(X_test)"
   ]
  },
  {
   "cell_type": "code",
   "execution_count": 22,
   "metadata": {
    "tags": []
   },
   "outputs": [],
   "source": [
    "svc_y_pred = SVC.predict(X_test)\n",
    "lsvc_y_pred = LSVC.predict(X_test)"
   ]
  },
  {
   "cell_type": "code",
   "execution_count": 25,
   "metadata": {
    "tags": []
   },
   "outputs": [],
   "source": [
    "svc_recall = recall_score(y_test, svc_y_pred, average = 'weighted')\n",
    "lsvc_recall = recall_score(y_test, lsvc_y_pred, average = 'weighted')"
   ]
  },
  {
   "cell_type": "code",
   "execution_count": 27,
   "metadata": {
    "tags": []
   },
   "outputs": [],
   "source": [
    "svc_f1 = f1_score(y_test, svc_y_pred, average='weighted')\n",
    "lsvc_f1 = f1_score(y_test, lsvc_y_pred, average='weighted')"
   ]
  },
  {
   "cell_type": "code",
   "execution_count": 30,
   "metadata": {
    "tags": []
   },
   "outputs": [
    {
     "name": "stderr",
     "output_type": "stream",
     "text": [
      "C:\\ProgramData\\anaconda3\\Lib\\site-packages\\sklearn\\metrics\\_classification.py:1344: UndefinedMetricWarning: Precision is ill-defined and being set to 0.0 in labels with no predicted samples. Use `zero_division` parameter to control this behavior.\n",
      "  _warn_prf(average, modifier, msg_start, len(result))\n",
      "C:\\ProgramData\\anaconda3\\Lib\\site-packages\\sklearn\\metrics\\_classification.py:1344: UndefinedMetricWarning: Precision is ill-defined and being set to 0.0 in labels with no predicted samples. Use `zero_division` parameter to control this behavior.\n",
      "  _warn_prf(average, modifier, msg_start, len(result))\n"
     ]
    }
   ],
   "source": [
    "svc_percision = precision_score(y_test, svc_y_pred, average='weighted')\n",
    "lsvc_percision = precision_score(y_test, lsvc_y_pred, average='weighted')"
   ]
  },
  {
   "cell_type": "code",
   "execution_count": 31,
   "metadata": {
    "tags": []
   },
   "outputs": [],
   "source": [
    "svc_accuracy = accuracy_score(y_test, svc_y_pred, normalize=False)\n",
    "lsvc_accuracy = accuracy_score(y_test, lsvc_y_pred, normalize=False)"
   ]
  },
  {
   "cell_type": "markdown",
   "metadata": {},
   "source": [
    "#### Reducing dimensionality by eliminating makename as a feature and reapplying"
   ]
  },
  {
   "cell_type": "code",
   "execution_count": 32,
   "metadata": {
    "tags": []
   },
   "outputs": [
    {
     "data": {
      "text/html": [
       "<div>\n",
       "<style scoped>\n",
       "    .dataframe tbody tr th:only-of-type {\n",
       "        vertical-align: middle;\n",
       "    }\n",
       "\n",
       "    .dataframe tbody tr th {\n",
       "        vertical-align: top;\n",
       "    }\n",
       "\n",
       "    .dataframe thead th {\n",
       "        text-align: right;\n",
       "    }\n",
       "</style>\n",
       "<table border=\"1\" class=\"dataframe\">\n",
       "  <thead>\n",
       "    <tr style=\"text-align: right;\">\n",
       "      <th></th>\n",
       "      <th>DEATHS</th>\n",
       "      <th>DR_DRINK</th>\n",
       "      <th>DR_HGT</th>\n",
       "      <th>DR_WGT</th>\n",
       "      <th>HIT_RUNNAME</th>\n",
       "      <th>TRAV_SP</th>\n",
       "      <th>HOUR</th>\n",
       "      <th>MOD_YEAR</th>\n",
       "      <th>MODELNAME</th>\n",
       "      <th>VSPD_LIM</th>\n",
       "      <th>VPICBODYCLASSNAME</th>\n",
       "      <th>NUMOCCS</th>\n",
       "      <th>MAKENAME</th>\n",
       "      <th>MINUTE</th>\n",
       "      <th>TIME</th>\n",
       "      <th>APRX_WGT</th>\n",
       "      <th>MOD_YEAR_5YR_CHUNK</th>\n",
       "      <th>RELATIVE_SPEED</th>\n",
       "      <th>BMI</th>\n",
       "      <th>DEATHOCCURRED</th>\n",
       "    </tr>\n",
       "  </thead>\n",
       "  <tbody>\n",
       "    <tr>\n",
       "      <th>0</th>\n",
       "      <td>3</td>\n",
       "      <td>1</td>\n",
       "      <td>67</td>\n",
       "      <td>145</td>\n",
       "      <td>0</td>\n",
       "      <td>80</td>\n",
       "      <td>2</td>\n",
       "      <td>1997</td>\n",
       "      <td>ES-250/300/300h/330/ 350</td>\n",
       "      <td>45</td>\n",
       "      <td>Sedan/Saloon</td>\n",
       "      <td>4</td>\n",
       "      <td>Lexus</td>\n",
       "      <td>58</td>\n",
       "      <td>2.966667</td>\n",
       "      <td>3742.851635</td>\n",
       "      <td>1995</td>\n",
       "      <td>35</td>\n",
       "      <td>22.707730</td>\n",
       "      <td>1</td>\n",
       "    </tr>\n",
       "    <tr>\n",
       "      <th>1</th>\n",
       "      <td>1</td>\n",
       "      <td>0</td>\n",
       "      <td>67</td>\n",
       "      <td>215</td>\n",
       "      <td>0</td>\n",
       "      <td>70</td>\n",
       "      <td>14</td>\n",
       "      <td>1995</td>\n",
       "      <td>Camry</td>\n",
       "      <td>65</td>\n",
       "      <td>Sedan/Saloon</td>\n",
       "      <td>1</td>\n",
       "      <td>Toyota</td>\n",
       "      <td>55</td>\n",
       "      <td>14.916667</td>\n",
       "      <td>3683.158842</td>\n",
       "      <td>1995</td>\n",
       "      <td>5</td>\n",
       "      <td>33.670082</td>\n",
       "      <td>1</td>\n",
       "    </tr>\n",
       "    <tr>\n",
       "      <th>2</th>\n",
       "      <td>0</td>\n",
       "      <td>0</td>\n",
       "      <td>68</td>\n",
       "      <td>228</td>\n",
       "      <td>0</td>\n",
       "      <td>10</td>\n",
       "      <td>14</td>\n",
       "      <td>2016</td>\n",
       "      <td>Medium/Heavy - CBE</td>\n",
       "      <td>55</td>\n",
       "      <td>Truck-Tractor</td>\n",
       "      <td>1</td>\n",
       "      <td>Peterbilt</td>\n",
       "      <td>55</td>\n",
       "      <td>14.916667</td>\n",
       "      <td>21481.490570</td>\n",
       "      <td>2015</td>\n",
       "      <td>-45</td>\n",
       "      <td>34.663495</td>\n",
       "      <td>0</td>\n",
       "    </tr>\n",
       "    <tr>\n",
       "      <th>3</th>\n",
       "      <td>1</td>\n",
       "      <td>0</td>\n",
       "      <td>73</td>\n",
       "      <td>133</td>\n",
       "      <td>0</td>\n",
       "      <td>80</td>\n",
       "      <td>15</td>\n",
       "      <td>2007</td>\n",
       "      <td>Azera  (For 2018 on, code as vehicle model 398)</td>\n",
       "      <td>35</td>\n",
       "      <td>Sedan/Saloon</td>\n",
       "      <td>5</td>\n",
       "      <td>Hyundai</td>\n",
       "      <td>20</td>\n",
       "      <td>15.333333</td>\n",
       "      <td>3230.411839</td>\n",
       "      <td>2005</td>\n",
       "      <td>45</td>\n",
       "      <td>17.545318</td>\n",
       "      <td>1</td>\n",
       "    </tr>\n",
       "    <tr>\n",
       "      <th>4</th>\n",
       "      <td>1</td>\n",
       "      <td>0</td>\n",
       "      <td>64</td>\n",
       "      <td>115</td>\n",
       "      <td>0</td>\n",
       "      <td>70</td>\n",
       "      <td>0</td>\n",
       "      <td>2013</td>\n",
       "      <td>Suburban/Yukon XL (2004 on; see 431 for 1950- ...</td>\n",
       "      <td>45</td>\n",
       "      <td>Sport Utility Vehicle (SUV)/Multi-Purpose Vehi...</td>\n",
       "      <td>1</td>\n",
       "      <td>GMC</td>\n",
       "      <td>45</td>\n",
       "      <td>0.750000</td>\n",
       "      <td>4824.798634</td>\n",
       "      <td>2015</td>\n",
       "      <td>25</td>\n",
       "      <td>19.737549</td>\n",
       "      <td>1</td>\n",
       "    </tr>\n",
       "  </tbody>\n",
       "</table>\n",
       "</div>"
      ],
      "text/plain": [
       "   DEATHS  DR_DRINK  DR_HGT  DR_WGT  HIT_RUNNAME  TRAV_SP  HOUR  MOD_YEAR  \\\n",
       "0       3         1      67     145            0       80     2      1997   \n",
       "1       1         0      67     215            0       70    14      1995   \n",
       "2       0         0      68     228            0       10    14      2016   \n",
       "3       1         0      73     133            0       80    15      2007   \n",
       "4       1         0      64     115            0       70     0      2013   \n",
       "\n",
       "                                           MODELNAME  VSPD_LIM  \\\n",
       "0                           ES-250/300/300h/330/ 350        45   \n",
       "1                                              Camry        65   \n",
       "2                                 Medium/Heavy - CBE        55   \n",
       "3    Azera  (For 2018 on, code as vehicle model 398)        35   \n",
       "4  Suburban/Yukon XL (2004 on; see 431 for 1950- ...        45   \n",
       "\n",
       "                                   VPICBODYCLASSNAME  NUMOCCS   MAKENAME  \\\n",
       "0                                       Sedan/Saloon        4      Lexus   \n",
       "1                                       Sedan/Saloon        1     Toyota   \n",
       "2                                      Truck-Tractor        1  Peterbilt   \n",
       "3                                       Sedan/Saloon        5    Hyundai   \n",
       "4  Sport Utility Vehicle (SUV)/Multi-Purpose Vehi...        1        GMC   \n",
       "\n",
       "   MINUTE       TIME      APRX_WGT  MOD_YEAR_5YR_CHUNK  RELATIVE_SPEED  \\\n",
       "0      58   2.966667   3742.851635                1995              35   \n",
       "1      55  14.916667   3683.158842                1995               5   \n",
       "2      55  14.916667  21481.490570                2015             -45   \n",
       "3      20  15.333333   3230.411839                2005              45   \n",
       "4      45   0.750000   4824.798634                2015              25   \n",
       "\n",
       "         BMI  DEATHOCCURRED  \n",
       "0  22.707730              1  \n",
       "1  33.670082              1  \n",
       "2  34.663495              0  \n",
       "3  17.545318              1  \n",
       "4  19.737549              1  "
      ]
     },
     "execution_count": 32,
     "metadata": {},
     "output_type": "execute_result"
    }
   ],
   "source": [
    "# reapplying the same two models except leaving out make name\n",
    "# reduces features from 55 to 11\n",
    "df_red =pd.read_csv('../data/data-clean/super-clean-vehicle-2020-2021.csv', index_col = 0)\n",
    "df_red.head()"
   ]
  },
  {
   "cell_type": "code",
   "execution_count": 33,
   "metadata": {
    "tags": []
   },
   "outputs": [],
   "source": [
    "# split to train and test\n",
    "X_red = df_red.drop(columns = ['MODELNAME', 'DEATHOCCURRED', 'VPICBODYCLASSNAME', 'MAKENAME'])\n",
    "y_red = df_red.VPICBODYCLASSNAME\n",
    "X_red_train, X_red_test, y_red_train, y_red_test = train_test_split(X_red, y_red, test_size=0.2, random_state=42)\n",
    "\n",
    "sc = StandardScaler()\n",
    "X_red_train = sc.fit_transform(X_red_train)\n",
    "X_red_test = sc.transform (X_red_test)"
   ]
  },
  {
   "cell_type": "code",
   "execution_count": 34,
   "metadata": {
    "tags": []
   },
   "outputs": [
    {
     "ename": "InvalidParameterError",
     "evalue": "The 'dual' parameter of LinearSVC must be an instance of 'bool', an instance of 'numpy.bool_' or an instance of 'int'. Got 'auto' instead.",
     "output_type": "error",
     "traceback": [
      "\u001b[1;31m---------------------------------------------------------------------------\u001b[0m",
      "\u001b[1;31mInvalidParameterError\u001b[0m                     Traceback (most recent call last)",
      "Cell \u001b[1;32mIn[34], line 7\u001b[0m\n\u001b[0;32m      4\u001b[0m y_score_svc_red \u001b[38;5;241m=\u001b[39m SVC_red\u001b[38;5;241m.\u001b[39mdecision_function(X_red_test)\n\u001b[0;32m      6\u001b[0m LSVC_red \u001b[38;5;241m=\u001b[39m svm\u001b[38;5;241m.\u001b[39mLinearSVC(C\u001b[38;5;241m=\u001b[39m\u001b[38;5;241m1\u001b[39m, max_iter\u001b[38;5;241m=\u001b[39m\u001b[38;5;241m1000\u001b[39m, dual\u001b[38;5;241m=\u001b[39m\u001b[38;5;124m\"\u001b[39m\u001b[38;5;124mauto\u001b[39m\u001b[38;5;124m\"\u001b[39m)\n\u001b[1;32m----> 7\u001b[0m LSVC_red\u001b[38;5;241m.\u001b[39mfit(X_red_train, y_red_train)\n\u001b[0;32m      8\u001b[0m y_score_lsvc_red \u001b[38;5;241m=\u001b[39m LSVC_red\u001b[38;5;241m.\u001b[39mdecision_function(X_red_test)\n",
      "File \u001b[1;32mC:\\ProgramData\\anaconda3\\Lib\\site-packages\\sklearn\\svm\\_classes.py:261\u001b[0m, in \u001b[0;36mLinearSVC.fit\u001b[1;34m(self, X, y, sample_weight)\u001b[0m\n\u001b[0;32m    237\u001b[0m \u001b[38;5;28;01mdef\u001b[39;00m \u001b[38;5;21mfit\u001b[39m(\u001b[38;5;28mself\u001b[39m, X, y, sample_weight\u001b[38;5;241m=\u001b[39m\u001b[38;5;28;01mNone\u001b[39;00m):\n\u001b[0;32m    238\u001b[0m \u001b[38;5;250m    \u001b[39m\u001b[38;5;124;03m\"\"\"Fit the model according to the given training data.\u001b[39;00m\n\u001b[0;32m    239\u001b[0m \n\u001b[0;32m    240\u001b[0m \u001b[38;5;124;03m    Parameters\u001b[39;00m\n\u001b[1;32m   (...)\u001b[0m\n\u001b[0;32m    259\u001b[0m \u001b[38;5;124;03m        An instance of the estimator.\u001b[39;00m\n\u001b[0;32m    260\u001b[0m \u001b[38;5;124;03m    \"\"\"\u001b[39;00m\n\u001b[1;32m--> 261\u001b[0m     \u001b[38;5;28mself\u001b[39m\u001b[38;5;241m.\u001b[39m_validate_params()\n\u001b[0;32m    263\u001b[0m     X, y \u001b[38;5;241m=\u001b[39m \u001b[38;5;28mself\u001b[39m\u001b[38;5;241m.\u001b[39m_validate_data(\n\u001b[0;32m    264\u001b[0m         X,\n\u001b[0;32m    265\u001b[0m         y,\n\u001b[1;32m   (...)\u001b[0m\n\u001b[0;32m    269\u001b[0m         accept_large_sparse\u001b[38;5;241m=\u001b[39m\u001b[38;5;28;01mFalse\u001b[39;00m,\n\u001b[0;32m    270\u001b[0m     )\n\u001b[0;32m    271\u001b[0m     check_classification_targets(y)\n",
      "File \u001b[1;32mC:\\ProgramData\\anaconda3\\Lib\\site-packages\\sklearn\\base.py:600\u001b[0m, in \u001b[0;36mBaseEstimator._validate_params\u001b[1;34m(self)\u001b[0m\n\u001b[0;32m    592\u001b[0m \u001b[38;5;28;01mdef\u001b[39;00m \u001b[38;5;21m_validate_params\u001b[39m(\u001b[38;5;28mself\u001b[39m):\n\u001b[0;32m    593\u001b[0m \u001b[38;5;250m    \u001b[39m\u001b[38;5;124;03m\"\"\"Validate types and values of constructor parameters\u001b[39;00m\n\u001b[0;32m    594\u001b[0m \n\u001b[0;32m    595\u001b[0m \u001b[38;5;124;03m    The expected type and values must be defined in the `_parameter_constraints`\u001b[39;00m\n\u001b[1;32m   (...)\u001b[0m\n\u001b[0;32m    598\u001b[0m \u001b[38;5;124;03m    accepted constraints.\u001b[39;00m\n\u001b[0;32m    599\u001b[0m \u001b[38;5;124;03m    \"\"\"\u001b[39;00m\n\u001b[1;32m--> 600\u001b[0m     validate_parameter_constraints(\n\u001b[0;32m    601\u001b[0m         \u001b[38;5;28mself\u001b[39m\u001b[38;5;241m.\u001b[39m_parameter_constraints,\n\u001b[0;32m    602\u001b[0m         \u001b[38;5;28mself\u001b[39m\u001b[38;5;241m.\u001b[39mget_params(deep\u001b[38;5;241m=\u001b[39m\u001b[38;5;28;01mFalse\u001b[39;00m),\n\u001b[0;32m    603\u001b[0m         caller_name\u001b[38;5;241m=\u001b[39m\u001b[38;5;28mself\u001b[39m\u001b[38;5;241m.\u001b[39m\u001b[38;5;18m__class__\u001b[39m\u001b[38;5;241m.\u001b[39m\u001b[38;5;18m__name__\u001b[39m,\n\u001b[0;32m    604\u001b[0m     )\n",
      "File \u001b[1;32mC:\\ProgramData\\anaconda3\\Lib\\site-packages\\sklearn\\utils\\_param_validation.py:97\u001b[0m, in \u001b[0;36mvalidate_parameter_constraints\u001b[1;34m(parameter_constraints, params, caller_name)\u001b[0m\n\u001b[0;32m     91\u001b[0m \u001b[38;5;28;01melse\u001b[39;00m:\n\u001b[0;32m     92\u001b[0m     constraints_str \u001b[38;5;241m=\u001b[39m (\n\u001b[0;32m     93\u001b[0m         \u001b[38;5;124mf\u001b[39m\u001b[38;5;124m\"\u001b[39m\u001b[38;5;132;01m{\u001b[39;00m\u001b[38;5;124m'\u001b[39m\u001b[38;5;124m, \u001b[39m\u001b[38;5;124m'\u001b[39m\u001b[38;5;241m.\u001b[39mjoin([\u001b[38;5;28mstr\u001b[39m(c)\u001b[38;5;250m \u001b[39m\u001b[38;5;28;01mfor\u001b[39;00m\u001b[38;5;250m \u001b[39mc\u001b[38;5;250m \u001b[39m\u001b[38;5;129;01min\u001b[39;00m\u001b[38;5;250m \u001b[39mconstraints[:\u001b[38;5;241m-\u001b[39m\u001b[38;5;241m1\u001b[39m]])\u001b[38;5;132;01m}\u001b[39;00m\u001b[38;5;124m or\u001b[39m\u001b[38;5;124m\"\u001b[39m\n\u001b[0;32m     94\u001b[0m         \u001b[38;5;124mf\u001b[39m\u001b[38;5;124m\"\u001b[39m\u001b[38;5;124m \u001b[39m\u001b[38;5;132;01m{\u001b[39;00mconstraints[\u001b[38;5;241m-\u001b[39m\u001b[38;5;241m1\u001b[39m]\u001b[38;5;132;01m}\u001b[39;00m\u001b[38;5;124m\"\u001b[39m\n\u001b[0;32m     95\u001b[0m     )\n\u001b[1;32m---> 97\u001b[0m \u001b[38;5;28;01mraise\u001b[39;00m InvalidParameterError(\n\u001b[0;32m     98\u001b[0m     \u001b[38;5;124mf\u001b[39m\u001b[38;5;124m\"\u001b[39m\u001b[38;5;124mThe \u001b[39m\u001b[38;5;132;01m{\u001b[39;00mparam_name\u001b[38;5;132;01m!r}\u001b[39;00m\u001b[38;5;124m parameter of \u001b[39m\u001b[38;5;132;01m{\u001b[39;00mcaller_name\u001b[38;5;132;01m}\u001b[39;00m\u001b[38;5;124m must be\u001b[39m\u001b[38;5;124m\"\u001b[39m\n\u001b[0;32m     99\u001b[0m     \u001b[38;5;124mf\u001b[39m\u001b[38;5;124m\"\u001b[39m\u001b[38;5;124m \u001b[39m\u001b[38;5;132;01m{\u001b[39;00mconstraints_str\u001b[38;5;132;01m}\u001b[39;00m\u001b[38;5;124m. Got \u001b[39m\u001b[38;5;132;01m{\u001b[39;00mparam_val\u001b[38;5;132;01m!r}\u001b[39;00m\u001b[38;5;124m instead.\u001b[39m\u001b[38;5;124m\"\u001b[39m\n\u001b[0;32m    100\u001b[0m )\n",
      "\u001b[1;31mInvalidParameterError\u001b[0m: The 'dual' parameter of LinearSVC must be an instance of 'bool', an instance of 'numpy.bool_' or an instance of 'int'. Got 'auto' instead."
     ]
    }
   ],
   "source": [
    "# Comparing SVM and linear SVC (squared hinge loss) to classify body type\n",
    "SVC_red = svm.SVC(kernel=\"linear\", C=1)\n",
    "SVC_red.fit(X_red_train, y_red_train)\n",
    "y_score_svc_red = SVC_red.decision_function(X_red_test)\n",
    "\n",
    "LSVC_red = svm.LinearSVC(C=1, max_iter=1000, dual=\"auto\")\n",
    "LSVC_red.fit(X_red_train, y_red_train)\n",
    "y_score_lsvc_red = LSVC_red.decision_function(X_red_test)"
   ]
  },
  {
   "cell_type": "code",
   "execution_count": null,
   "metadata": {
    "tags": []
   },
   "outputs": [],
   "source": [
    "svc_y_pred_red = SVC_red.predict(X_red_test)\n",
    "lsvc_y_pred_red = LSVC_red.predict(X_red_test)"
   ]
  },
  {
   "cell_type": "code",
   "execution_count": null,
   "metadata": {
    "tags": []
   },
   "outputs": [],
   "source": [
    "#recall score for reduced model\n",
    "svc_recall_red = recall_score(y_red_test, svc_y_pred_red, average = 'weighted')\n",
    "lsvc_recall_red = recall_score(y_red_test, lsvc_y_pred_red, average = 'weighted')"
   ]
  },
  {
   "cell_type": "code",
   "execution_count": 66,
   "metadata": {},
   "outputs": [],
   "source": [
    "# f1 score for reduced model\n",
    "svc_f1_red = f1_score(y_red_test, svc_y_pred_red, average='weighted')\n",
    "lsvc_f1_red = f1_score(y_red_test, lsvc_y_pred_red, average='weighted')"
   ]
  },
  {
   "cell_type": "code",
   "execution_count": 56,
   "metadata": {},
   "outputs": [],
   "source": [
    "# accuracy score for reduced model\n",
    "svc_accuracy_red = accuracy_score(y_red_test, svc_y_pred_red, normalize=False)\n",
    "lsvc_accuracy_red = accuracy_score(y_red_test, lsvc_y_pred_red, normalize=False)"
   ]
  },
  {
   "cell_type": "code",
   "execution_count": 65,
   "metadata": {},
   "outputs": [
    {
     "name": "stderr",
     "output_type": "stream",
     "text": [
      "c:\\Users\\admin\\AppData\\Local\\Programs\\Python\\Python311\\Lib\\site-packages\\sklearn\\metrics\\_classification.py:1509: UndefinedMetricWarning: Precision is ill-defined and being set to 0.0 in labels with no predicted samples. Use `zero_division` parameter to control this behavior.\n",
      "  _warn_prf(average, modifier, f\"{metric.capitalize()} is\", len(result))\n",
      "c:\\Users\\admin\\AppData\\Local\\Programs\\Python\\Python311\\Lib\\site-packages\\sklearn\\metrics\\_classification.py:1509: UndefinedMetricWarning: Precision is ill-defined and being set to 0.0 in labels with no predicted samples. Use `zero_division` parameter to control this behavior.\n",
      "  _warn_prf(average, modifier, f\"{metric.capitalize()} is\", len(result))\n"
     ]
    }
   ],
   "source": [
    "svc_percision_red = precision_score(y_red_test, svc_y_pred_red, average='weighted')\n",
    "lsvc_percision_red = precision_score(y_red_test, lsvc_y_pred_red, average = 'weighted')"
   ]
  },
  {
   "cell_type": "code",
   "execution_count": 73,
   "metadata": {},
   "outputs": [
    {
     "data": {
      "text/html": [
       "<div>\n",
       "<style scoped>\n",
       "    .dataframe tbody tr th:only-of-type {\n",
       "        vertical-align: middle;\n",
       "    }\n",
       "\n",
       "    .dataframe tbody tr th {\n",
       "        vertical-align: top;\n",
       "    }\n",
       "\n",
       "    .dataframe thead th {\n",
       "        text-align: right;\n",
       "    }\n",
       "</style>\n",
       "<table border=\"1\" class=\"dataframe\">\n",
       "  <thead>\n",
       "    <tr style=\"text-align: right;\">\n",
       "      <th></th>\n",
       "      <th>Model Type</th>\n",
       "      <th>Accuracy Score</th>\n",
       "      <th>Precision Score</th>\n",
       "      <th>Recall Score</th>\n",
       "      <th>F1 Score</th>\n",
       "    </tr>\n",
       "  </thead>\n",
       "  <tbody>\n",
       "    <tr>\n",
       "      <th>0</th>\n",
       "      <td>SVC</td>\n",
       "      <td>2533.0</td>\n",
       "      <td>0.558209</td>\n",
       "      <td>0.579501</td>\n",
       "      <td>0.538466</td>\n",
       "    </tr>\n",
       "    <tr>\n",
       "      <th>1</th>\n",
       "      <td>Linear SVC</td>\n",
       "      <td>2538.0</td>\n",
       "      <td>0.569897</td>\n",
       "      <td>0.580645</td>\n",
       "      <td>0.536464</td>\n",
       "    </tr>\n",
       "    <tr>\n",
       "      <th>2</th>\n",
       "      <td>Reduced SVC</td>\n",
       "      <td>1541.0</td>\n",
       "      <td>0.230243</td>\n",
       "      <td>0.352551</td>\n",
       "      <td>0.247562</td>\n",
       "    </tr>\n",
       "    <tr>\n",
       "      <th>3</th>\n",
       "      <td>Reduced Linear SVC</td>\n",
       "      <td>1578.0</td>\n",
       "      <td>0.321388</td>\n",
       "      <td>0.361016</td>\n",
       "      <td>0.290559</td>\n",
       "    </tr>\n",
       "  </tbody>\n",
       "</table>\n",
       "</div>"
      ],
      "text/plain": [
       "           Model Type  Accuracy Score  Precision Score  Recall Score  F1 Score\n",
       "0                 SVC          2533.0         0.558209      0.579501  0.538466\n",
       "1          Linear SVC          2538.0         0.569897      0.580645  0.536464\n",
       "2         Reduced SVC          1541.0         0.230243      0.352551  0.247562\n",
       "3  Reduced Linear SVC          1578.0         0.321388      0.361016  0.290559"
      ]
     },
     "execution_count": 73,
     "metadata": {},
     "output_type": "execute_result"
    }
   ],
   "source": [
    "data = [\n",
    "    ['SVC', svc_accuracy, svc_percision, svc_recall, svc_f1], \n",
    "    ['Linear SVC', lsvc_accuracy, lsvc_percision, lsvc_recall, lsvc_f1],\n",
    "    ['Reduced SVC', svc_accuracy_red, svc_percision_red, svc_recall_red, svc_f1_red],\n",
    "    ['Reduced Linear SVC', lsvc_accuracy_red, lsvc_percision_red, lsvc_recall_red, lsvc_f1_red]\n",
    "]\n",
    "model_comparison = pd.DataFrame(\n",
    "    data,\n",
    "    columns = ['Model Type', 'Accuracy Score', 'Precision Score', 'Recall Score', 'F1 Score']\n",
    ")\n",
    "model_comparison"
   ]
  }
 ],
 "metadata": {
  "kernelspec": {
   "display_name": "Python 3 (ipykernel)",
   "language": "python",
   "name": "python3"
  },
  "language_info": {
   "codemirror_mode": {
    "name": "ipython",
    "version": 3
   },
   "file_extension": ".py",
   "mimetype": "text/x-python",
   "name": "python",
   "nbconvert_exporter": "python",
   "pygments_lexer": "ipython3",
   "version": "3.11.8"
  }
 },
 "nbformat": 4,
 "nbformat_minor": 4
}
